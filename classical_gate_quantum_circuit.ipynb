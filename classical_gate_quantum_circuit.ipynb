{
 "cells": [
  {
   "cell_type": "code",
   "execution_count": 31,
   "metadata": {},
   "outputs": [],
   "source": [
    "from qiskit import *\n",
    "from qiskit.tools.visualization import plot_histogram\n",
    "import numpy as np\n",
    "from math import sqrt"
   ]
  },
  {
   "cell_type": "code",
   "execution_count": 2,
   "metadata": {},
   "outputs": [],
   "source": [
    "def NOT(input):\n",
    "\n",
    "    q = QuantumRegister(1) # a qubit in which to encode and manipulate the input\n",
    "    c = ClassicalRegister(1) # a bit to store the output\n",
    "    qc = QuantumCircuit(q, c) # this is where the quantum program goes\n",
    "    \n",
    "    # We encode '0' as the qubit state |0⟩, and '1' as |1⟩\n",
    "    # Since the qubit is initially |0⟩, we don't need to do anything for an input of '0'\n",
    "    # For an input of '1', we do an x to rotate the |0⟩ to |1⟩\n",
    "    if input=='1':\n",
    "        qc.x( q[0] )\n",
    "        \n",
    "    # Now we've encoded the input, we can do a NOT on it using x\n",
    "    qc.x( q[0] )\n",
    "    \n",
    "    # Finally, we extract the |0⟩/|1⟩ output of the qubit and encode it in the bit c[0]\n",
    "    qc.measure( q[0], c[0] )\n",
    "    \n",
    "    # We'll run the program on a simulator\n",
    "    backend = Aer.get_backend('qasm_simulator')\n",
    "    # Since the output will be deterministic, we can use just a single shot to get it\n",
    "    job = execute(qc,backend,shots=1)\n",
    "    output = next(iter(job.result().get_counts()))\n",
    "    \n",
    "    return output"
   ]
  },
  {
   "cell_type": "code",
   "execution_count": 3,
   "metadata": {},
   "outputs": [
    {
     "name": "stdout",
     "output_type": "stream",
     "text": [
      "\n",
      "Results for the NOT gate\n",
      "    Input 0 gives output 1\n",
      "    Input 1 gives output 0\n"
     ]
    }
   ],
   "source": [
    "print('\\nResults for the NOT gate')\n",
    "for input in ['0','1']:\n",
    "    print('    Input',input,'gives output',NOT(input))"
   ]
  },
  {
   "cell_type": "code",
   "execution_count": 4,
   "metadata": {},
   "outputs": [],
   "source": [
    "def XOR(input1, input2):\n",
    "    q = QuantumRegister(2) # two qubits in which to encode and manipulate the input\n",
    "    c = ClassicalRegister(1) # a bit to store the output\n",
    "    qc = QuantumCircuit(q, c) # this is where the quantum program goes\n",
    "    if input1 != input2:\n",
    "        qc.x(q[0])\n",
    "\n",
    "    # YOUR QUANTUM PROGRAM GOES HERE\n",
    "    qc.cx(q[0], q[1])\n",
    "    qc.measure(q[1], c[0])# YOU CAN CHANGE THIS IF YOU WANT TO \n",
    "    \n",
    "    # We'll run the program on a simulator\n",
    "    backend = Aer.get_backend('qasm_simulator')\n",
    "    # Since the output will be deterministic, we can use just a single shot to get it\n",
    "    job = execute(qc, backend, shots=1, memory=True)\n",
    "    output = job.result().get_memory()[0]\n",
    "    \n",
    "    return output"
   ]
  },
  {
   "cell_type": "code",
   "execution_count": 5,
   "metadata": {},
   "outputs": [
    {
     "name": "stdout",
     "output_type": "stream",
     "text": [
      "\n",
      "Results for the XOR gate\n",
      "Inputs 0 0 give output 0\n",
      "Inputs 0 1 give output 1\n",
      "Inputs 1 0 give output 1\n",
      "Inputs 1 1 give output 0\n"
     ]
    }
   ],
   "source": [
    "print('\\nResults for the XOR gate')\n",
    "for input1 in ['0','1']:\n",
    "    for input2 in ['0','1']:\n",
    "        print('Inputs', input1, input2, 'give output', XOR(input1,input2))"
   ]
  },
  {
   "cell_type": "code",
   "execution_count": 6,
   "metadata": {},
   "outputs": [],
   "source": [
    "def AND(input1,input2):\n",
    "    \n",
    "    q = QuantumRegister(3) # two qubits in which to encode the input, and one for the output\n",
    "    c = ClassicalRegister(1) # a bit to store the output\n",
    "    qc = QuantumCircuit(q, c) # this is where the quantum program goes\n",
    "    \n",
    "    # YOUR QUANTUM PROGRAM GOES HERE\n",
    "    if input1 == '1':\n",
    "        qc.x(q[0])\n",
    "    if input2 == '1':\n",
    "        qc.x(q[1])\n",
    "    qc.ccx(q[0], q[1], q[2])\n",
    "    qc.measure(q[2],c[0]) # YOU CAN CHANGE THIS IF YOU WANT TO\n",
    "    \n",
    "    # We'll run the program on a simulator\n",
    "    backend = Aer.get_backend('qasm_simulator')\n",
    "    # Since the output will be deterministic, we can use just a single shot to get it\n",
    "    job = execute(qc,backend,shots=1,memory=True)\n",
    "    output = job.result().get_memory()[0]\n",
    "    \n",
    "    return output"
   ]
  },
  {
   "cell_type": "code",
   "execution_count": 7,
   "metadata": {},
   "outputs": [
    {
     "name": "stdout",
     "output_type": "stream",
     "text": [
      "\n",
      "Results for the AND gate\n",
      "    Inputs 0 0 give output 0\n",
      "    Inputs 0 1 give output 0\n",
      "    Inputs 1 0 give output 0\n",
      "    Inputs 1 1 give output 1\n"
     ]
    }
   ],
   "source": [
    "print('\\nResults for the AND gate')\n",
    "for input1 in ['0','1']:\n",
    "    for input2 in ['0','1']:\n",
    "        print('    Inputs',input1,input2,'give output',AND(input1,input2))"
   ]
  },
  {
   "cell_type": "code",
   "execution_count": 8,
   "metadata": {},
   "outputs": [],
   "source": [
    "def NAND(input1,input2):\n",
    "  \n",
    "    q = QuantumRegister(3) # two qubits in which to encode the input, and one for the output\n",
    "    c = ClassicalRegister(1) # a bit to store the output\n",
    "    qc = QuantumCircuit(q, c) # this is where the quantum program goes\n",
    "    \n",
    "    # YOUR QUANTUM PROGRAM GOES HERE\n",
    "    if input1 == '1':\n",
    "        qc.x(q[0])\n",
    "    if input2 == '1':\n",
    "        qc.x(q[1])\n",
    "    qc.ccx(q[0], q[1], q[2])\n",
    "    qc.x(q[2])\n",
    "    qc.measure(q[2],c[0]) # YOU CAN CHANGE THIS IF YOU WANT TO\n",
    "\n",
    "    # We'll run the program on a simulator\n",
    "    backend = Aer.get_backend('qasm_simulator')\n",
    "    # Since the output will be deterministic, we can use just a single shot to get it\n",
    "    job = execute(qc,backend,shots=1,memory=True)\n",
    "    output = job.result().get_memory()[0]\n",
    "    \n",
    "    return output"
   ]
  },
  {
   "cell_type": "code",
   "execution_count": 9,
   "metadata": {},
   "outputs": [
    {
     "name": "stdout",
     "output_type": "stream",
     "text": [
      "\n",
      "Results for the NAND gate\n",
      "    Inputs 0 0 give output 1\n",
      "    Inputs 0 1 give output 1\n",
      "    Inputs 1 0 give output 1\n",
      "    Inputs 1 1 give output 0\n"
     ]
    }
   ],
   "source": [
    "print('\\nResults for the NAND gate')\n",
    "for input1 in ['0','1']:\n",
    "    for input2 in ['0','1']:\n",
    "        print('    Inputs',input1,input2,'give output',NAND(input1,input2))"
   ]
  },
  {
   "cell_type": "code",
   "execution_count": 10,
   "metadata": {},
   "outputs": [],
   "source": [
    "def OR(input1,input2):\n",
    "  \n",
    "    q = QuantumRegister(3) # two qubits in which to encode the input, and one for the output\n",
    "    c = ClassicalRegister(1) # a bit to store the output\n",
    "    qc = QuantumCircuit(q, c) # this is where the quantum program goes\n",
    "    \n",
    "    # YOUR QUANTUM PROGRAM GOES HERE\n",
    "    if input1 == '1':\n",
    "        qc.x(q[0])\n",
    "    if input2 == '1':\n",
    "        qc.x(q[1])\n",
    "    if not ((input1 == '1') & (input2 == '1')):\n",
    "        qc.cx(q[0], q[1])\n",
    "#     qc.measure(q[2],c[0]) # original\n",
    "    qc.measure(q[1],c[0]) # YOU CAN CHANGE THIS IF YOU WANT TO\n",
    "    \n",
    "    # We'll run the program on a simulator\n",
    "    backend = Aer.get_backend('qasm_simulator')\n",
    "    # Since the output will be deterministic, we can use just a single shot to get it\n",
    "    job = execute(qc,backend,shots=1,memory=True)\n",
    "    output = job.result().get_memory()[0]\n",
    "    \n",
    "    return output"
   ]
  },
  {
   "cell_type": "code",
   "execution_count": 11,
   "metadata": {},
   "outputs": [
    {
     "name": "stdout",
     "output_type": "stream",
     "text": [
      "\n",
      "Results for the OR gate\n",
      "    Inputs 0 0 give output 0\n",
      "    Inputs 0 1 give output 1\n",
      "    Inputs 1 0 give output 1\n",
      "    Inputs 1 1 give output 1\n"
     ]
    }
   ],
   "source": [
    "print('\\nResults for the OR gate')\n",
    "for input1 in ['0','1']:\n",
    "    for input2 in ['0','1']:\n",
    "        print('    Inputs',input1,input2,'give output',OR(input1,input2))"
   ]
  },
  {
   "cell_type": "code",
   "execution_count": 12,
   "metadata": {},
   "outputs": [],
   "source": [
    "def draw_and_run(input1, input2):\n",
    "    q = QuantumRegister(3) # two qubits in which to encode the input, and one for the output\n",
    "    c = ClassicalRegister(1) # a bit to store the output\n",
    "    qc = QuantumCircuit(q, c) # this is where the quantum program goes\n",
    "    \n",
    "    # YOUR QUANTUM PROGRAM GOES HERE\n",
    "    if input1 == '1':\n",
    "        qc.x(q[0])\n",
    "    if input2 == '1':\n",
    "        qc.x(q[1])\n",
    "    if not ((input1 == '1') & (input2 == '1')):\n",
    "        qc.cx(q[0], q[1])\n",
    "    qc.measure(q[1],c[0]) # YOU CAN CHANGE THIS IF YOU WANT TO\n",
    "    \n",
    "    # We'll run the program on a simulator\n",
    "    backend = Aer.get_backend('qasm_simulator')\n",
    "    # Since the output will be deterministic, we can use just a single shot to get it\n",
    "    job = execute(qc,backend,shots=1,memory=True)\n",
    "    output = job.result().get_memory()[0]\n",
    "    print(\"output = \", output)\n",
    "    return qc.draw(output='mpl')"
   ]
  },
  {
   "cell_type": "code",
   "execution_count": 13,
   "metadata": {},
   "outputs": [
    {
     "name": "stdout",
     "output_type": "stream",
     "text": [
      "output =  1\n"
     ]
    },
    {
     "data": {
      "image/png": "[encoded data removed]",
      "text/plain": [
       "<Figure size 298.592x264.88 with 1 Axes>"
      ]
     },
     "execution_count": 13,
     "metadata": {},
     "output_type": "execute_result"
    }
   ],
   "source": [
    "draw_and_run('1', '1')"
   ]
  },
  {
   "cell_type": "code",
   "execution_count": 48,
   "metadata": {},
   "outputs": [
    {
     "name": "stdout",
     "output_type": "stream",
     "text": [
      "n = 1\n",
      "sqrt(1/error**2) =  1.9990007493755466\n",
      "1/1**2 =  1.0\n",
      "------------\n",
      "n = 2\n",
      "sqrt(1/error**2) =  2.964345833643761\n",
      "1/2**2 =  0.25\n",
      "------------\n",
      "n = 3\n",
      "sqrt(1/error**2) =  3.931405669853757\n",
      "1/3**2 =  0.1111111111111111\n",
      "------------\n",
      "n = 4\n",
      "sqrt(1/error**2) =  4.80847036834345\n",
      "1/4**2 =  0.0625\n",
      "------------\n",
      "n = 5\n",
      "sqrt(1/error**2) =  5.693409423095719\n",
      "1/5**2 =  0.04\n",
      "------------\n",
      "n = 6\n",
      "sqrt(1/error**2) =  6.160411036336974\n",
      "1/6**2 =  0.027777777777777776\n",
      "------------\n",
      "n = 7\n",
      "sqrt(1/error**2) =  6.780635036208104\n",
      "1/7**2 =  0.02040816326530612\n",
      "------------\n",
      "n = 8\n",
      "sqrt(1/error**2) =  7.124704998790965\n",
      "1/8**2 =  0.015625\n",
      "------------\n",
      "n = 9\n",
      "sqrt(1/error**2) =  7.53778361444409\n",
      "1/9**2 =  0.012345679012345678\n",
      "------------\n",
      "n = 10\n",
      "sqrt(1/error**2) =  8.09776330178916\n",
      "1/10**2 =  0.01\n",
      "------------\n"
     ]
    },
    {
     "data": {
      "image/png": "[encoded data removed]",
      "text/plain": [
       "<Figure size 504x360 with 1 Axes>"
      ]
     },
     "execution_count": 48,
     "metadata": {},
     "output_type": "execute_result"
    }
   ],
   "source": [
    "q = QuantumRegister(1)\n",
    "c = ClassicalRegister(1)\n",
    "\n",
    "error = {}\n",
    "for n in range(1,11):\n",
    "\n",
    "    # Create a blank circuit\n",
    "    qc = QuantumCircuit(q,c)\n",
    "    \n",
    "    # Implement an approximate Hadamard\n",
    "    theta = 3.*np.pi/4. # here we incorrectly choose theta=pi\n",
    "    for j in range(n):\n",
    "        qc.rx(theta/n,q[0])\n",
    "        qc.rz(theta/n,q[0])\n",
    "      \n",
    "    # We need to measure how good the above approximation is. Here's a simple way to do this.\n",
    "    # Step 1: Use a real hadamard to cancel the above approximation.\n",
    "    # For a good approximatuon, the qubit will return to state 0. For a bad one, it will end up as some superposition.\n",
    "    qc.h(q[0])\n",
    "    \n",
    "    # Step 2: Run the circuit, and see how many times we get the outcome 1.\n",
    "    # Since it should return 0 with certainty, the fraction of 1s is a measure of the error.\n",
    "    qc.measure(q,c)\n",
    "    shots = 20000\n",
    "    job = execute(qc, Aer.get_backend('qasm_simulator'),shots=shots)\n",
    "    try:\n",
    "        error[n] = (job.result().get_counts()['1']/shots)\n",
    "        print(f\"n = {n}\")\n",
    "        print(\"sqrt(1/error**2) = \", sqrt(1./error[n]))\n",
    "        print(f\"1/{n}**2 = \", 1./n**2)\n",
    "        print(\"------------\")\n",
    "    except:\n",
    "        pass\n",
    "        \n",
    "plot_histogram(error)"
   ]
  },
  {
   "cell_type": "code",
   "execution_count": 44,
   "metadata": {},
   "outputs": [
    {
     "name": "stdout",
     "output_type": "stream",
     "text": [
      "sqrt(1/error**2) =  2.4091140546160488\n",
      "sqrt(1/error**2) =  4.538427298976457\n",
      "sqrt(1/error**2) =  1.0022072867228944\n",
      "sqrt(1/error**2) =  1.41315409395441\n",
      "sqrt(1/error**2) =  1.1470786693528088\n",
      "sqrt(1/error**2) =  2.020511274244429\n",
      "sqrt(1/error**2) =  1.6767104359008653\n",
      "sqrt(1/error**2) =  1.4089399073526938\n",
      "sqrt(1/error**2) =  1.2678559097708404\n",
      "sqrt(1/error**2) =  1.230868286877575\n"
     ]
    },
    {
     "data": {
      "image/png": "[encoded data removed]",
      "text/plain": [
       "<Figure size 504x360 with 1 Axes>"
      ]
     },
     "execution_count": 44,
     "metadata": {},
     "output_type": "execute_result"
    }
   ],
   "source": [
    "q = QuantumRegister(1)\n",
    "c = ClassicalRegister(1)\n",
    "\n",
    "error = {}\n",
    "for n in range(1,11):\n",
    "\n",
    "    # Create a blank circuit\n",
    "    qc = QuantumCircuit(q,c)\n",
    "    \n",
    "    # Implement an approximate Hadamard\n",
    "    theta = 3*np.pi/4. # here we incorrectly choose theta=pi\n",
    "    for j in range(n):\n",
    "        qc.rz(theta/2*n,q[0])\n",
    "        qc.rx(theta/n,q[0])\n",
    "        qc.rz(theta/2*n,q[0])\n",
    "      \n",
    "    # We need to measure how good the above approximation is. Here's a simple way to do this.\n",
    "    # Step 1: Use a real hadamard to cancel the above approximation.\n",
    "    # For a good approximatuon, the qubit will return to state 0. For a bad one, it will end up as some superposition.\n",
    "    qc.h(q[0])\n",
    "    \n",
    "    # Step 2: Run the circuit, and see how many times we get the outcome 1.\n",
    "    # Since it should return 0 with certainty, the fraction of 1s is a measure of the error.\n",
    "    qc.measure(q,c)\n",
    "    shots = 20000\n",
    "    job = execute(qc, Aer.get_backend('qasm_simulator'),shots=shots)\n",
    "    try:\n",
    "        error[n] = (job.result().get_counts()['1']/shots)\n",
    "        print(\"sqrt(1/error**2) = \", sqrt(1./error[n]))\n",
    "    except:\n",
    "        pass\n",
    "        \n",
    "plot_histogram(error)"
   ]
  },
  {
   "cell_type": "code",
   "execution_count": null,
   "metadata": {},
   "outputs": [],
   "source": []
  }
 ],
 "metadata": {
  "kernelspec": {
   "display_name": "qiskit",
   "language": "python",
   "name": "qiskit"
  },
  "language_info": {
   "codemirror_mode": {
    "name": "ipython",
    "version": 3
   },
   "file_extension": ".py",
   "mimetype": "text/x-python",
   "name": "python",
   "nbconvert_exporter": "python",
   "pygments_lexer": "ipython3",
   "version": "3.6.10"
  }
 },
 "nbformat": 4,
 "nbformat_minor": 2
}
