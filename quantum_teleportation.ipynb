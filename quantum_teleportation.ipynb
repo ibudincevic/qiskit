{
 "cells": [
  {
   "cell_type": "code",
   "execution_count": 1,
   "metadata": {},
   "outputs": [],
   "source": [
    "# make the imports that are necessary for our work\n",
    "import qiskit as qk\n",
    "from qiskit import ClassicalRegister, QuantumRegister, QuantumCircuit\n",
    "from qiskit import execute, Aer\n",
    "from qiskit import IBMQ\n",
    "from qiskit.tools.visualization import plot_histogram"
   ]
  },
  {
   "cell_type": "code",
   "execution_count": 2,
   "metadata": {},
   "outputs": [],
   "source": [
    "# simple function that applies a series of unitary gates from a given string\n",
    "def apply_secret_unitary(secret_unitary, qubit, quantum_circuit, dagger):\n",
    "    functionmap = {\n",
    "                    'x':quantum_circuit.x,\n",
    "                    'y':quantum_circuit.y,\n",
    "                    'z':quantum_circuit.z,\n",
    "                    'h':quantum_circuit.h,                    \n",
    "                    't':quantum_circuit.t,                    \n",
    "    }\n",
    "    if dagger: functionmap['t'] = quantum_circuit.tdg\n",
    "    \n",
    "    if dagger:\n",
    "        [functionmap[unitary](qubit) for unitary in secret_unitary]\n",
    "    else:\n",
    "        [functionmap[unitary](qubit) for unitary in secret_unitary[::-1]]"
   ]
  },
  {
   "cell_type": "code",
   "execution_count": 3,
   "metadata": {},
   "outputs": [],
   "source": [
    "secret_unitary = 'hz'"
   ]
  },
  {
   "cell_type": "code",
   "execution_count": 4,
   "metadata": {},
   "outputs": [
    {
     "data": {
      "text/plain": [
       "<qiskit.circuit.instructionset.InstructionSet at 0x1bdc076fef0>"
      ]
     },
     "execution_count": 4,
     "metadata": {},
     "output_type": "execute_result"
    }
   ],
   "source": [
    "# Create the quantum circuit\n",
    "q = QuantumRegister(3)\n",
    "c = ClassicalRegister(3)\n",
    "qc = QuantumCircuit(q, c)\n",
    "\n",
    "''' Qubit ordering as follows (classical registers will just contain measured values of the corresponding qubits):\n",
    "q[0]: qubit to be teleported (Alice's first qubit. It was given to her after the application of a secret unitary \n",
    "      which she doesn't know)\n",
    "q[1]: Alice's second qubit\n",
    "q[2]: Bob's qubit, which will be the destination for the teleportation\n",
    "'''\n",
    "\n",
    "# Apply the secret unitary that we are using to generate the state to teleport. You can change it to any unitary\n",
    "apply_secret_unitary(secret_unitary, q[0], qc, dagger = 0)\n",
    "qc.barrier()\n",
    "# Next, generate the entangled pair between Alice and Bob (Remember: Hadamard followed by CX generates a Bell pair)\n",
    "qc.h(q[1])\n",
    "qc.cx(q[1], q[2])\n",
    "qc.barrier()\n",
    "# Next, apply the teleportation protocol. \n",
    "qc.cx(q[0], q[1])\n",
    "qc.h(q[0])\n",
    "qc.measure(q[0], c[0])\n",
    "qc.measure(q[1], c[1])\n",
    "qc.cx(q[1], q[2])\n",
    "qc.cz(q[0], q[2])\n",
    "qc.barrier()\n",
    "\n",
    "'''\n",
    "In principle, if the teleportation protocol worked, we have q[2] = secret_unitary|0>\n",
    "As a result, we should be able to recover q[2] = |0> by applying the reverse of secret_unitary\n",
    "since for a unitary u, u^dagger u = I.\n",
    "'''\n",
    "apply_secret_unitary(secret_unitary, q[2], qc, dagger=1)\n",
    "qc.measure(q[2], c[2])"
   ]
  },
  {
   "cell_type": "code",
   "execution_count": 5,
   "metadata": {},
   "outputs": [
    {
     "data": {
      "image/png": "[encoded data removed]",
      "text/plain": [
       "<Figure size 1070.36x264.88 with 1 Axes>"
      ]
     },
     "execution_count": 5,
     "metadata": {},
     "output_type": "execute_result"
    }
   ],
   "source": [
    "qc.draw(output='mpl')"
   ]
  },
  {
   "cell_type": "code",
   "execution_count": 6,
   "metadata": {},
   "outputs": [
    {
     "name": "stdout",
     "output_type": "stream",
     "text": [
      "{'010': 244, '000': 253, '001': 266, '011': 261}\n"
     ]
    },
    {
     "data": {
      "image/png": "[encoded data removed]",
      "text/plain": [
       "<Figure size 504x360 with 1 Axes>"
      ]
     },
     "execution_count": 6,
     "metadata": {},
     "output_type": "execute_result"
    }
   ],
   "source": [
    "backend = Aer.get_backend('qasm_simulator')\n",
    "job_sim = execute(qc, backend, shots=1024)\n",
    "sim_result = job_sim.result()\n",
    "\n",
    "measurement_result = sim_result.get_counts(qc)\n",
    "print(measurement_result)\n",
    "plot_histogram(measurement_result)"
   ]
  },
  {
   "cell_type": "code",
   "execution_count": 7,
   "metadata": {},
   "outputs": [
    {
     "ename": "IBMQAccountError",
     "evalue": "'No IBM Q Experience credentials found on disk.'",
     "output_type": "error",
     "traceback": [
      "\u001b[1;31m---------------------------------------------------------------------------\u001b[0m",
      "\u001b[1;31mIBMQAccountError\u001b[0m                          Traceback (most recent call last)",
      "\u001b[1;32m<ipython-input-7-beb09c0bf764>\u001b[0m in \u001b[0;36m<module>\u001b[1;34m\u001b[0m\n\u001b[1;32m----> 1\u001b[1;33m \u001b[0mIBMQ\u001b[0m\u001b[1;33m.\u001b[0m\u001b[0mload_account\u001b[0m\u001b[1;33m(\u001b[0m\u001b[1;33m)\u001b[0m\u001b[1;33m\u001b[0m\u001b[1;33m\u001b[0m\u001b[0m\n\u001b[0m",
      "\u001b[1;32m~\\Anaconda3\\envs\\qiskit\\lib\\site-packages\\qiskit\\providers\\ibmq\\ibmqfactory.py\u001b[0m in \u001b[0;36mload_account\u001b[1;34m(self)\u001b[0m\n\u001b[0;32m    126\u001b[0m         \u001b[1;32mif\u001b[0m \u001b[1;32mnot\u001b[0m \u001b[0mcredentials_list\u001b[0m\u001b[1;33m:\u001b[0m\u001b[1;33m\u001b[0m\u001b[1;33m\u001b[0m\u001b[0m\n\u001b[0;32m    127\u001b[0m             raise IBMQAccountError(\n\u001b[1;32m--> 128\u001b[1;33m                 'No IBM Q Experience credentials found on disk.')\n\u001b[0m\u001b[0;32m    129\u001b[0m \u001b[1;33m\u001b[0m\u001b[0m\n\u001b[0;32m    130\u001b[0m         \u001b[1;32mif\u001b[0m \u001b[0mlen\u001b[0m\u001b[1;33m(\u001b[0m\u001b[0mcredentials_list\u001b[0m\u001b[1;33m)\u001b[0m \u001b[1;33m>\u001b[0m \u001b[1;36m1\u001b[0m\u001b[1;33m:\u001b[0m\u001b[1;33m\u001b[0m\u001b[1;33m\u001b[0m\u001b[0m\n",
      "\u001b[1;31mIBMQAccountError\u001b[0m: 'No IBM Q Experience credentials found on disk.'"
     ]
    }
   ],
   "source": [
    "IBMQ.load_account()"
   ]
  },
  {
   "cell_type": "code",
   "execution_count": null,
   "metadata": {},
   "outputs": [],
   "source": []
  }
 ],
 "metadata": {
  "kernelspec": {
   "display_name": "qiskit",
   "language": "python",
   "name": "qiskit"
  },
  "language_info": {
   "codemirror_mode": {
    "name": "ipython",
    "version": 3
   },
   "file_extension": ".py",
   "mimetype": "text/x-python",
   "name": "python",
   "nbconvert_exporter": "python",
   "pygments_lexer": "ipython3",
   "version": "3.6.10"
  }
 },
 "nbformat": 4,
 "nbformat_minor": 2
}
