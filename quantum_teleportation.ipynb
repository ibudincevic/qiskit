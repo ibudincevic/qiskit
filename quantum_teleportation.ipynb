{
 "cells": [
  {
   "cell_type": "code",
   "execution_count": 1,
   "metadata": {},
   "outputs": [],
   "source": [
    "# make the imports that are necessary for our work\n",
    "import qiskit as qk\n",
    "from qiskit import ClassicalRegister, QuantumRegister, QuantumCircuit\n",
    "from qiskit import execute, Aer\n",
    "from qiskit import IBMQ\n",
    "from qiskit.tools.visualization import plot_histogram"
   ]
  },
  {
   "cell_type": "code",
   "execution_count": null,
   "metadata": {},
   "outputs": [],
   "source": [
    "# from qiskit import IBMQ\n",
    "# IBMQ.save_account('e64ccd3d6c3de0a885acac0d20563b04017f53c28fe100f6120eb8139399a13ee9b951d9220dd8675351080446c2ad8e2313eefec2ffa15c66986a47b671445c')"
   ]
  },
  {
   "cell_type": "code",
   "execution_count": 2,
   "metadata": {},
   "outputs": [],
   "source": [
    "# simple function that applies a series of unitary gates from a given string\n",
    "def apply_secret_unitary(secret_unitary, qubit, quantum_circuit, dagger):\n",
    "    functionmap = {\n",
    "                    'x':quantum_circuit.x,\n",
    "                    'y':quantum_circuit.y,\n",
    "                    'z':quantum_circuit.z,\n",
    "                    'h':quantum_circuit.h,                    \n",
    "                    't':quantum_circuit.t,                    \n",
    "    }\n",
    "    if dagger: functionmap['t'] = quantum_circuit.tdg\n",
    "    \n",
    "    if dagger:\n",
    "        [functionmap[unitary](qubit) for unitary in secret_unitary]\n",
    "    else:\n",
    "        [functionmap[unitary](qubit) for unitary in secret_unitary[::-1]]"
   ]
  },
  {
   "cell_type": "code",
   "execution_count": 3,
   "metadata": {},
   "outputs": [],
   "source": [
    "secret_unitary = 'hz'"
   ]
  },
  {
   "cell_type": "code",
   "execution_count": 10,
   "metadata": {},
   "outputs": [
    {
     "data": {
      "text/plain": [
       "<qiskit.circuit.instructionset.InstructionSet at 0x2a21a1d6f60>"
      ]
     },
     "execution_count": 10,
     "metadata": {},
     "output_type": "execute_result"
    }
   ],
   "source": [
    "# Create the quantum circuit\n",
    "q = QuantumRegister(3)\n",
    "c = ClassicalRegister(3)\n",
    "qc = QuantumCircuit(q, c)\n",
    "\n",
    "''' Qubit ordering as follows (classical registers will just contain measured values of the corresponding qubits):\n",
    "q[0]: qubit to be teleported (Alice's first qubit. It was given to her after the application of a secret unitary \n",
    "      which she doesn't know)\n",
    "q[1]: Alice's second qubit\n",
    "q[2]: Bob's qubit, which will be the destination for the teleportation\n",
    "'''\n",
    "\n",
    "# Apply the secret unitary that we are using to generate the state to teleport. You can change it to any unitary\n",
    "apply_secret_unitary(secret_unitary, q[0], qc, dagger = 0)\n",
    "qc.barrier()\n",
    "# Next, generate the entangled pair between Alice and Bob (Remember: Hadamard followed by CX generates a Bell pair)\n",
    "qc.h(q[1])\n",
    "qc.cx(q[1], q[2])\n",
    "qc.barrier()\n",
    "# Next, apply the teleportation protocol. \n",
    "qc.cx(q[0], q[1])\n",
    "qc.h(q[0])\n",
    "# qc.measure(q[0], c[0])\n",
    "# qc.measure(q[1], c[1])\n",
    "qc.cx(q[1], q[2])\n",
    "qc.cz(q[0], q[2])\n",
    "qc.barrier()\n",
    "\n",
    "'''\n",
    "In principle, if the teleportation protocol worked, we have q[2] = secret_unitary|0>\n",
    "As a result, we should be able to recover q[2] = |0> by applying the reverse of secret_unitary\n",
    "since for a unitary u, u^dagger u = I.\n",
    "'''\n",
    "apply_secret_unitary(secret_unitary, q[2], qc, dagger=1)\n",
    "qc.measure(q[2], c[2])"
   ]
  },
  {
   "cell_type": "code",
   "execution_count": 11,
   "metadata": {},
   "outputs": [
    {
     "data": {
      "image/png": "[encoded data removed]",
      "text/plain": [
       "<Figure size 949.956x264.88 with 1 Axes>"
      ]
     },
     "execution_count": 11,
     "metadata": {},
     "output_type": "execute_result"
    }
   ],
   "source": [
    "qc.draw(output='mpl')"
   ]
  },
  {
   "cell_type": "code",
   "execution_count": null,
   "metadata": {},
   "outputs": [],
   "source": [
    "backend = Aer.get_backend('qasm_simulator')\n",
    "job_sim = execute(qc, backend, shots=1024)\n",
    "sim_result = job_sim.result()\n",
    "\n",
    "measurement_result = sim_result.get_counts(qc)\n",
    "print(measurement_result)\n",
    "plot_histogram(measurement_result)"
   ]
  },
  {
   "cell_type": "markdown",
   "metadata": {},
   "source": [
    "# Teleportation on a real quantum computer"
   ]
  },
  {
   "cell_type": "code",
   "execution_count": 6,
   "metadata": {},
   "outputs": [
    {
     "data": {
      "text/plain": [
       "<AccountProvider for IBMQ(hub='ibm-q', group='open', project='main')>"
      ]
     },
     "execution_count": 6,
     "metadata": {},
     "output_type": "execute_result"
    }
   ],
   "source": [
    "IBMQ.load_account()"
   ]
  },
  {
   "cell_type": "code",
   "execution_count": 7,
   "metadata": {},
   "outputs": [
    {
     "data": {
      "text/plain": [
       "[<IBMQSimulator('ibmq_qasm_simulator') from IBMQ(hub='ibm-q', group='open', project='main')>,\n",
       " <IBMQBackend('ibmqx2') from IBMQ(hub='ibm-q', group='open', project='main')>,\n",
       " <IBMQBackend('ibmq_16_melbourne') from IBMQ(hub='ibm-q', group='open', project='main')>,\n",
       " <IBMQBackend('ibmq_vigo') from IBMQ(hub='ibm-q', group='open', project='main')>,\n",
       " <IBMQBackend('ibmq_ourense') from IBMQ(hub='ibm-q', group='open', project='main')>,\n",
       " <IBMQBackend('ibmq_london') from IBMQ(hub='ibm-q', group='open', project='main')>,\n",
       " <IBMQBackend('ibmq_burlington') from IBMQ(hub='ibm-q', group='open', project='main')>,\n",
       " <IBMQBackend('ibmq_essex') from IBMQ(hub='ibm-q', group='open', project='main')>,\n",
       " <IBMQBackend('ibmq_armonk') from IBMQ(hub='ibm-q', group='open', project='main')>]"
      ]
     },
     "execution_count": 7,
     "metadata": {},
     "output_type": "execute_result"
    }
   ],
   "source": [
    "provider = IBMQ.get_provider(hub='ibm-q')\n",
    "provider.backends()"
   ]
  },
  {
   "cell_type": "code",
   "execution_count": 12,
   "metadata": {},
   "outputs": [
    {
     "name": "stdout",
     "output_type": "stream",
     "text": [
      "{'000': 7292, '100': 900}\n"
     ]
    },
    {
     "data": {
      "image/png": "[encoded data removed]",
      "text/plain": [
       "<Figure size 504x360 with 1 Axes>"
      ]
     },
     "execution_count": 12,
     "metadata": {},
     "output_type": "execute_result"
    }
   ],
   "source": [
    "# get the least-busy backend at IBM and run the quantum circuit there\n",
    "from qiskit.providers.ibmq import least_busy\n",
    "backend = least_busy(provider.backends(simulator=False))\n",
    "job_exp = execute(qc, backend=backend, shots=8192)\n",
    "exp_result = job_exp.result()\n",
    "\n",
    "exp_measurement_result = exp_result.get_counts(qc)\n",
    "print(exp_measurement_result)\n",
    "plot_histogram(exp_measurement_result)"
   ]
  },
  {
   "cell_type": "code",
   "execution_count": 13,
   "metadata": {},
   "outputs": [],
   "source": [
    "job_exp.error_message()"
   ]
  },
  {
   "cell_type": "code",
   "execution_count": 14,
   "metadata": {},
   "outputs": [
    {
     "name": "stdout",
     "output_type": "stream",
     "text": [
      "The experimental error rate :  10.986328125 %\n"
     ]
    }
   ],
   "source": [
    "error_rate_percent = sum([exp_measurement_result[result] for result in exp_measurement_result.keys() if result[0]=='1']) \\\n",
    "                    * 100./ sum(list(exp_measurement_result.values()))\n",
    "print(\"The experimental error rate : \", error_rate_percent, \"%\")"
   ]
  },
  {
   "cell_type": "code",
   "execution_count": null,
   "metadata": {},
   "outputs": [],
   "source": []
  }
 ],
 "metadata": {
  "kernelspec": {
   "display_name": "qiskit",
   "language": "python",
   "name": "qiskit"
  },
  "language_info": {
   "codemirror_mode": {
    "name": "ipython",
    "version": 3
   },
   "file_extension": ".py",
   "mimetype": "text/x-python",
   "name": "python",
   "nbconvert_exporter": "python",
   "pygments_lexer": "ipython3",
   "version": "3.6.10"
  }
 },
 "nbformat": 4,
 "nbformat_minor": 2
}
